{
 "cells": [
  {
   "cell_type": "code",
   "execution_count": 77,
   "id": "453f956c",
   "metadata": {},
   "outputs": [],
   "source": [
    "# Learning : Keyboard shortcut to comment multiple lines in IDE in Command + /\n",
    "# Learning : To get the count of unique values in a column, we should use dataframe name.column name.value_counts()"
   ]
  },
  {
   "cell_type": "code",
   "execution_count": null,
   "id": "b23742c8",
   "metadata": {},
   "outputs": [],
   "source": [
    "import pandas as pd"
   ]
  },
  {
   "cell_type": "code",
   "execution_count": 79,
   "id": "13a10aa6",
   "metadata": {},
   "outputs": [],
   "source": [
    "cars = pd.read_csv('cars.csv')"
   ]
  },
  {
   "cell_type": "code",
   "execution_count": 102,
   "id": "a0185757",
   "metadata": {},
   "outputs": [
    {
     "data": {
      "text/html": [
       "<div>\n",
       "<style scoped>\n",
       "    .dataframe tbody tr th:only-of-type {\n",
       "        vertical-align: middle;\n",
       "    }\n",
       "\n",
       "    .dataframe tbody tr th {\n",
       "        vertical-align: top;\n",
       "    }\n",
       "\n",
       "    .dataframe thead th {\n",
       "        text-align: right;\n",
       "    }\n",
       "</style>\n",
       "<table border=\"1\" class=\"dataframe\">\n",
       "  <thead>\n",
       "    <tr style=\"text-align: right;\">\n",
       "      <th></th>\n",
       "      <th>car name</th>\n",
       "      <th>sports_car</th>\n",
       "      <th>suv</th>\n",
       "      <th>wagon</th>\n",
       "      <th>minivan</th>\n",
       "      <th>pickup</th>\n",
       "      <th>all_wheel</th>\n",
       "      <th>rear_wheel</th>\n",
       "      <th>msrp</th>\n",
       "      <th>dealer_cost</th>\n",
       "      <th>eng_size</th>\n",
       "      <th>ncyl</th>\n",
       "      <th>horsepwr</th>\n",
       "      <th>city_mpg</th>\n",
       "      <th>hwy_mpg</th>\n",
       "      <th>weight</th>\n",
       "      <th>wheel_base</th>\n",
       "      <th>length</th>\n",
       "      <th>width</th>\n",
       "    </tr>\n",
       "  </thead>\n",
       "  <tbody>\n",
       "    <tr>\n",
       "      <th>0</th>\n",
       "      <td>Chevrolet Aveo 4dr</td>\n",
       "      <td>False</td>\n",
       "      <td>False</td>\n",
       "      <td>False</td>\n",
       "      <td>False</td>\n",
       "      <td>False</td>\n",
       "      <td>False</td>\n",
       "      <td>False</td>\n",
       "      <td>11690</td>\n",
       "      <td>10965</td>\n",
       "      <td>1.6</td>\n",
       "      <td>4</td>\n",
       "      <td>103</td>\n",
       "      <td>28.0</td>\n",
       "      <td>34.0</td>\n",
       "      <td>2370.0</td>\n",
       "      <td>98.0</td>\n",
       "      <td>167.0</td>\n",
       "      <td>66.0</td>\n",
       "    </tr>\n",
       "    <tr>\n",
       "      <th>1</th>\n",
       "      <td>Chevrolet Aveo LS 4dr hatch</td>\n",
       "      <td>False</td>\n",
       "      <td>False</td>\n",
       "      <td>False</td>\n",
       "      <td>False</td>\n",
       "      <td>False</td>\n",
       "      <td>False</td>\n",
       "      <td>False</td>\n",
       "      <td>12585</td>\n",
       "      <td>11802</td>\n",
       "      <td>1.6</td>\n",
       "      <td>4</td>\n",
       "      <td>103</td>\n",
       "      <td>28.0</td>\n",
       "      <td>34.0</td>\n",
       "      <td>2348.0</td>\n",
       "      <td>98.0</td>\n",
       "      <td>153.0</td>\n",
       "      <td>66.0</td>\n",
       "    </tr>\n",
       "    <tr>\n",
       "      <th>2</th>\n",
       "      <td>Chevrolet Cavalier 2dr</td>\n",
       "      <td>False</td>\n",
       "      <td>False</td>\n",
       "      <td>False</td>\n",
       "      <td>False</td>\n",
       "      <td>False</td>\n",
       "      <td>False</td>\n",
       "      <td>False</td>\n",
       "      <td>14610</td>\n",
       "      <td>13697</td>\n",
       "      <td>2.2</td>\n",
       "      <td>4</td>\n",
       "      <td>140</td>\n",
       "      <td>26.0</td>\n",
       "      <td>37.0</td>\n",
       "      <td>2617.0</td>\n",
       "      <td>104.0</td>\n",
       "      <td>183.0</td>\n",
       "      <td>69.0</td>\n",
       "    </tr>\n",
       "    <tr>\n",
       "      <th>3</th>\n",
       "      <td>Chevrolet Cavalier 4dr</td>\n",
       "      <td>False</td>\n",
       "      <td>False</td>\n",
       "      <td>False</td>\n",
       "      <td>False</td>\n",
       "      <td>False</td>\n",
       "      <td>False</td>\n",
       "      <td>False</td>\n",
       "      <td>14810</td>\n",
       "      <td>13884</td>\n",
       "      <td>2.2</td>\n",
       "      <td>4</td>\n",
       "      <td>140</td>\n",
       "      <td>26.0</td>\n",
       "      <td>37.0</td>\n",
       "      <td>2676.0</td>\n",
       "      <td>104.0</td>\n",
       "      <td>183.0</td>\n",
       "      <td>68.0</td>\n",
       "    </tr>\n",
       "    <tr>\n",
       "      <th>4</th>\n",
       "      <td>Chevrolet Cavalier LS 2dr</td>\n",
       "      <td>False</td>\n",
       "      <td>False</td>\n",
       "      <td>False</td>\n",
       "      <td>False</td>\n",
       "      <td>False</td>\n",
       "      <td>False</td>\n",
       "      <td>False</td>\n",
       "      <td>16385</td>\n",
       "      <td>15357</td>\n",
       "      <td>2.2</td>\n",
       "      <td>4</td>\n",
       "      <td>140</td>\n",
       "      <td>26.0</td>\n",
       "      <td>37.0</td>\n",
       "      <td>2617.0</td>\n",
       "      <td>104.0</td>\n",
       "      <td>183.0</td>\n",
       "      <td>69.0</td>\n",
       "    </tr>\n",
       "  </tbody>\n",
       "</table>\n",
       "</div>"
      ],
      "text/plain": [
       "                      car name  sports_car    suv  wagon  minivan  pickup  \\\n",
       "0           Chevrolet Aveo 4dr       False  False  False    False   False   \n",
       "1  Chevrolet Aveo LS 4dr hatch       False  False  False    False   False   \n",
       "2       Chevrolet Cavalier 2dr       False  False  False    False   False   \n",
       "3       Chevrolet Cavalier 4dr       False  False  False    False   False   \n",
       "4    Chevrolet Cavalier LS 2dr       False  False  False    False   False   \n",
       "\n",
       "   all_wheel  rear_wheel   msrp  dealer_cost  eng_size  ncyl  horsepwr  \\\n",
       "0      False       False  11690        10965       1.6     4       103   \n",
       "1      False       False  12585        11802       1.6     4       103   \n",
       "2      False       False  14610        13697       2.2     4       140   \n",
       "3      False       False  14810        13884       2.2     4       140   \n",
       "4      False       False  16385        15357       2.2     4       140   \n",
       "\n",
       "   city_mpg  hwy_mpg  weight  wheel_base  length  width  \n",
       "0      28.0     34.0  2370.0        98.0   167.0   66.0  \n",
       "1      28.0     34.0  2348.0        98.0   153.0   66.0  \n",
       "2      26.0     37.0  2617.0       104.0   183.0   69.0  \n",
       "3      26.0     37.0  2676.0       104.0   183.0   68.0  \n",
       "4      26.0     37.0  2617.0       104.0   183.0   69.0  "
      ]
     },
     "execution_count": 102,
     "metadata": {},
     "output_type": "execute_result"
    }
   ],
   "source": [
    "cars.head()"
   ]
  },
  {
   "cell_type": "code",
   "execution_count": 9,
   "id": "47eb7bd1",
   "metadata": {},
   "outputs": [],
   "source": [
    "# 1- How many Rows are in the cars dataset?"
   ]
  },
  {
   "cell_type": "code",
   "execution_count": 20,
   "id": "ba7af747",
   "metadata": {},
   "outputs": [
    {
     "data": {
      "text/plain": [
       "(429, 1)"
      ]
     },
     "execution_count": 20,
     "metadata": {},
     "output_type": "execute_result"
    }
   ],
   "source": [
    "cars.shape"
   ]
  },
  {
   "cell_type": "code",
   "execution_count": 23,
   "id": "5cc3a7e1",
   "metadata": {},
   "outputs": [
    {
     "data": {
      "text/plain": [
       "429"
      ]
     },
     "execution_count": 23,
     "metadata": {},
     "output_type": "execute_result"
    }
   ],
   "source": [
    "cars.shape[0]"
   ]
  },
  {
   "cell_type": "code",
   "execution_count": null,
   "id": "f5cb5060",
   "metadata": {},
   "outputs": [],
   "source": [
    "# 2- How many Columns are in the car's data set?"
   ]
  },
  {
   "cell_type": "code",
   "execution_count": 24,
   "id": "3ff6c885",
   "metadata": {},
   "outputs": [
    {
     "data": {
      "text/plain": [
       "1"
      ]
     },
     "execution_count": 24,
     "metadata": {},
     "output_type": "execute_result"
    }
   ],
   "source": [
    "cars.shape[1]"
   ]
  },
  {
   "cell_type": "code",
   "execution_count": 31,
   "id": "aa06bd70",
   "metadata": {},
   "outputs": [
    {
     "data": {
      "text/plain": [
       "Index(['cars'], dtype='object')"
      ]
     },
     "execution_count": 31,
     "metadata": {},
     "output_type": "execute_result"
    }
   ],
   "source": [
    "cars.columns"
   ]
  },
  {
   "cell_type": "code",
   "execution_count": 34,
   "id": "8a7ea436",
   "metadata": {},
   "outputs": [],
   "source": [
    "# cars.drop(['cars'], inplace = True)\n",
    "# cars.drop([0], axis=0, inplace=True)\n",
    "cars.drop(cars.index[0], inplace=True)"
   ]
  },
  {
   "cell_type": "code",
   "execution_count": 36,
   "id": "cb0028d2",
   "metadata": {},
   "outputs": [
    {
     "data": {
      "text/plain": [
       "Index(['cars'], dtype='object')"
      ]
     },
     "execution_count": 36,
     "metadata": {},
     "output_type": "execute_result"
    }
   ],
   "source": [
    "cars.columns"
   ]
  },
  {
   "cell_type": "code",
   "execution_count": 39,
   "id": "aa3c85fe",
   "metadata": {},
   "outputs": [
    {
     "data": {
      "text/html": [
       "<div>\n",
       "<style scoped>\n",
       "    .dataframe tbody tr th:only-of-type {\n",
       "        vertical-align: middle;\n",
       "    }\n",
       "\n",
       "    .dataframe tbody tr th {\n",
       "        vertical-align: top;\n",
       "    }\n",
       "\n",
       "    .dataframe thead th {\n",
       "        text-align: right;\n",
       "    }\n",
       "</style>\n",
       "<table border=\"1\" class=\"dataframe\">\n",
       "  <thead>\n",
       "    <tr style=\"text-align: right;\">\n",
       "      <th></th>\n",
       "      <th></th>\n",
       "      <th></th>\n",
       "      <th></th>\n",
       "      <th></th>\n",
       "      <th></th>\n",
       "      <th></th>\n",
       "      <th></th>\n",
       "      <th></th>\n",
       "      <th></th>\n",
       "      <th></th>\n",
       "      <th></th>\n",
       "      <th></th>\n",
       "      <th></th>\n",
       "      <th></th>\n",
       "      <th></th>\n",
       "      <th></th>\n",
       "      <th></th>\n",
       "      <th>cars</th>\n",
       "    </tr>\n",
       "  </thead>\n",
       "  <tbody>\n",
       "    <tr>\n",
       "      <th>name</th>\n",
       "      <th>sports_car</th>\n",
       "      <th>suv</th>\n",
       "      <th>wagon</th>\n",
       "      <th>minivan</th>\n",
       "      <th>pickup</th>\n",
       "      <th>all_wheel</th>\n",
       "      <th>rear_wheel</th>\n",
       "      <th>msrp</th>\n",
       "      <th>dealer_cost</th>\n",
       "      <th>eng_size</th>\n",
       "      <th>ncyl</th>\n",
       "      <th>horsepwr</th>\n",
       "      <th>city_mpg</th>\n",
       "      <th>hwy_mpg</th>\n",
       "      <th>weight</th>\n",
       "      <th>wheel_base</th>\n",
       "      <th>length</th>\n",
       "      <td>width</td>\n",
       "    </tr>\n",
       "    <tr>\n",
       "      <th>Chevrolet Aveo 4dr</th>\n",
       "      <th>FALSE</th>\n",
       "      <th>FALSE</th>\n",
       "      <th>FALSE</th>\n",
       "      <th>FALSE</th>\n",
       "      <th>FALSE</th>\n",
       "      <th>FALSE</th>\n",
       "      <th>FALSE</th>\n",
       "      <th>11690</th>\n",
       "      <th>10965</th>\n",
       "      <th>1.6</th>\n",
       "      <th>4</th>\n",
       "      <th>103</th>\n",
       "      <th>28</th>\n",
       "      <th>34</th>\n",
       "      <th>2370</th>\n",
       "      <th>98</th>\n",
       "      <th>167</th>\n",
       "      <td>66</td>\n",
       "    </tr>\n",
       "    <tr>\n",
       "      <th>Chevrolet Aveo LS 4dr hatch</th>\n",
       "      <th>FALSE</th>\n",
       "      <th>FALSE</th>\n",
       "      <th>FALSE</th>\n",
       "      <th>FALSE</th>\n",
       "      <th>FALSE</th>\n",
       "      <th>FALSE</th>\n",
       "      <th>FALSE</th>\n",
       "      <th>12585</th>\n",
       "      <th>11802</th>\n",
       "      <th>1.6</th>\n",
       "      <th>4</th>\n",
       "      <th>103</th>\n",
       "      <th>28</th>\n",
       "      <th>34</th>\n",
       "      <th>2348</th>\n",
       "      <th>98</th>\n",
       "      <th>153</th>\n",
       "      <td>66</td>\n",
       "    </tr>\n",
       "    <tr>\n",
       "      <th>Chevrolet Cavalier 2dr</th>\n",
       "      <th>FALSE</th>\n",
       "      <th>FALSE</th>\n",
       "      <th>FALSE</th>\n",
       "      <th>FALSE</th>\n",
       "      <th>FALSE</th>\n",
       "      <th>FALSE</th>\n",
       "      <th>FALSE</th>\n",
       "      <th>14610</th>\n",
       "      <th>13697</th>\n",
       "      <th>2.2</th>\n",
       "      <th>4</th>\n",
       "      <th>140</th>\n",
       "      <th>26</th>\n",
       "      <th>37</th>\n",
       "      <th>2617</th>\n",
       "      <th>104</th>\n",
       "      <th>183</th>\n",
       "      <td>69</td>\n",
       "    </tr>\n",
       "    <tr>\n",
       "      <th>Chevrolet Cavalier 4dr</th>\n",
       "      <th>FALSE</th>\n",
       "      <th>FALSE</th>\n",
       "      <th>FALSE</th>\n",
       "      <th>FALSE</th>\n",
       "      <th>FALSE</th>\n",
       "      <th>FALSE</th>\n",
       "      <th>FALSE</th>\n",
       "      <th>14810</th>\n",
       "      <th>13884</th>\n",
       "      <th>2.2</th>\n",
       "      <th>4</th>\n",
       "      <th>140</th>\n",
       "      <th>26</th>\n",
       "      <th>37</th>\n",
       "      <th>2676</th>\n",
       "      <th>104</th>\n",
       "      <th>183</th>\n",
       "      <td>68</td>\n",
       "    </tr>\n",
       "  </tbody>\n",
       "</table>\n",
       "</div>"
      ],
      "text/plain": [
       "                                                                                                                                                                            cars\n",
       "name                        sports_car suv   wagon minivan pickup all_wheel rear_wheel msrp  dealer_cost eng_size ncyl horsepwr city_mpg hwy_mpg weight wheel_base length  width\n",
       "Chevrolet Aveo 4dr          FALSE      FALSE FALSE FALSE   FALSE  FALSE     FALSE      11690 10965       1.6      4    103      28       34      2370   98         167        66\n",
       "Chevrolet Aveo LS 4dr hatch FALSE      FALSE FALSE FALSE   FALSE  FALSE     FALSE      12585 11802       1.6      4    103      28       34      2348   98         153        66\n",
       "Chevrolet Cavalier 2dr      FALSE      FALSE FALSE FALSE   FALSE  FALSE     FALSE      14610 13697       2.2      4    140      26       37      2617   104        183        69\n",
       "Chevrolet Cavalier 4dr      FALSE      FALSE FALSE FALSE   FALSE  FALSE     FALSE      14810 13884       2.2      4    140      26       37      2676   104        183        68"
      ]
     },
     "execution_count": 39,
     "metadata": {},
     "output_type": "execute_result"
    }
   ],
   "source": [
    "cars.head()"
   ]
  },
  {
   "cell_type": "code",
   "execution_count": 40,
   "id": "cd94079c",
   "metadata": {},
   "outputs": [],
   "source": [
    "cars.drop(cars.index[-1], inplace=True)"
   ]
  },
  {
   "cell_type": "code",
   "execution_count": 41,
   "id": "c1c82093",
   "metadata": {},
   "outputs": [
    {
     "data": {
      "text/plain": [
       "Index(['cars'], dtype='object')"
      ]
     },
     "execution_count": 41,
     "metadata": {},
     "output_type": "execute_result"
    }
   ],
   "source": [
    "cars.columns"
   ]
  },
  {
   "cell_type": "code",
   "execution_count": 42,
   "id": "34b34e5d",
   "metadata": {},
   "outputs": [
    {
     "data": {
      "text/html": [
       "<div>\n",
       "<style scoped>\n",
       "    .dataframe tbody tr th:only-of-type {\n",
       "        vertical-align: middle;\n",
       "    }\n",
       "\n",
       "    .dataframe tbody tr th {\n",
       "        vertical-align: top;\n",
       "    }\n",
       "\n",
       "    .dataframe thead th {\n",
       "        text-align: right;\n",
       "    }\n",
       "</style>\n",
       "<table border=\"1\" class=\"dataframe\">\n",
       "  <thead>\n",
       "    <tr style=\"text-align: right;\">\n",
       "      <th></th>\n",
       "      <th></th>\n",
       "      <th></th>\n",
       "      <th></th>\n",
       "      <th></th>\n",
       "      <th></th>\n",
       "      <th></th>\n",
       "      <th></th>\n",
       "      <th></th>\n",
       "      <th></th>\n",
       "      <th></th>\n",
       "      <th></th>\n",
       "      <th></th>\n",
       "      <th></th>\n",
       "      <th></th>\n",
       "      <th></th>\n",
       "      <th></th>\n",
       "      <th></th>\n",
       "      <th>cars</th>\n",
       "    </tr>\n",
       "  </thead>\n",
       "  <tbody>\n",
       "    <tr>\n",
       "      <th>name</th>\n",
       "      <th>sports_car</th>\n",
       "      <th>suv</th>\n",
       "      <th>wagon</th>\n",
       "      <th>minivan</th>\n",
       "      <th>pickup</th>\n",
       "      <th>all_wheel</th>\n",
       "      <th>rear_wheel</th>\n",
       "      <th>msrp</th>\n",
       "      <th>dealer_cost</th>\n",
       "      <th>eng_size</th>\n",
       "      <th>ncyl</th>\n",
       "      <th>horsepwr</th>\n",
       "      <th>city_mpg</th>\n",
       "      <th>hwy_mpg</th>\n",
       "      <th>weight</th>\n",
       "      <th>wheel_base</th>\n",
       "      <th>length</th>\n",
       "      <td>width</td>\n",
       "    </tr>\n",
       "    <tr>\n",
       "      <th>Chevrolet Aveo 4dr</th>\n",
       "      <th>FALSE</th>\n",
       "      <th>FALSE</th>\n",
       "      <th>FALSE</th>\n",
       "      <th>FALSE</th>\n",
       "      <th>FALSE</th>\n",
       "      <th>FALSE</th>\n",
       "      <th>FALSE</th>\n",
       "      <th>11690</th>\n",
       "      <th>10965</th>\n",
       "      <th>1.6</th>\n",
       "      <th>4</th>\n",
       "      <th>103</th>\n",
       "      <th>28</th>\n",
       "      <th>34</th>\n",
       "      <th>2370</th>\n",
       "      <th>98</th>\n",
       "      <th>167</th>\n",
       "      <td>66</td>\n",
       "    </tr>\n",
       "    <tr>\n",
       "      <th>Chevrolet Aveo LS 4dr hatch</th>\n",
       "      <th>FALSE</th>\n",
       "      <th>FALSE</th>\n",
       "      <th>FALSE</th>\n",
       "      <th>FALSE</th>\n",
       "      <th>FALSE</th>\n",
       "      <th>FALSE</th>\n",
       "      <th>FALSE</th>\n",
       "      <th>12585</th>\n",
       "      <th>11802</th>\n",
       "      <th>1.6</th>\n",
       "      <th>4</th>\n",
       "      <th>103</th>\n",
       "      <th>28</th>\n",
       "      <th>34</th>\n",
       "      <th>2348</th>\n",
       "      <th>98</th>\n",
       "      <th>153</th>\n",
       "      <td>66</td>\n",
       "    </tr>\n",
       "    <tr>\n",
       "      <th>Chevrolet Cavalier 2dr</th>\n",
       "      <th>FALSE</th>\n",
       "      <th>FALSE</th>\n",
       "      <th>FALSE</th>\n",
       "      <th>FALSE</th>\n",
       "      <th>FALSE</th>\n",
       "      <th>FALSE</th>\n",
       "      <th>FALSE</th>\n",
       "      <th>14610</th>\n",
       "      <th>13697</th>\n",
       "      <th>2.2</th>\n",
       "      <th>4</th>\n",
       "      <th>140</th>\n",
       "      <th>26</th>\n",
       "      <th>37</th>\n",
       "      <th>2617</th>\n",
       "      <th>104</th>\n",
       "      <th>183</th>\n",
       "      <td>69</td>\n",
       "    </tr>\n",
       "    <tr>\n",
       "      <th>Chevrolet Cavalier 4dr</th>\n",
       "      <th>FALSE</th>\n",
       "      <th>FALSE</th>\n",
       "      <th>FALSE</th>\n",
       "      <th>FALSE</th>\n",
       "      <th>FALSE</th>\n",
       "      <th>FALSE</th>\n",
       "      <th>FALSE</th>\n",
       "      <th>14810</th>\n",
       "      <th>13884</th>\n",
       "      <th>2.2</th>\n",
       "      <th>4</th>\n",
       "      <th>140</th>\n",
       "      <th>26</th>\n",
       "      <th>37</th>\n",
       "      <th>2676</th>\n",
       "      <th>104</th>\n",
       "      <th>183</th>\n",
       "      <td>68</td>\n",
       "    </tr>\n",
       "  </tbody>\n",
       "</table>\n",
       "</div>"
      ],
      "text/plain": [
       "                                                                                                                                                                            cars\n",
       "name                        sports_car suv   wagon minivan pickup all_wheel rear_wheel msrp  dealer_cost eng_size ncyl horsepwr city_mpg hwy_mpg weight wheel_base length  width\n",
       "Chevrolet Aveo 4dr          FALSE      FALSE FALSE FALSE   FALSE  FALSE     FALSE      11690 10965       1.6      4    103      28       34      2370   98         167        66\n",
       "Chevrolet Aveo LS 4dr hatch FALSE      FALSE FALSE FALSE   FALSE  FALSE     FALSE      12585 11802       1.6      4    103      28       34      2348   98         153        66\n",
       "Chevrolet Cavalier 2dr      FALSE      FALSE FALSE FALSE   FALSE  FALSE     FALSE      14610 13697       2.2      4    140      26       37      2617   104        183        69\n",
       "Chevrolet Cavalier 4dr      FALSE      FALSE FALSE FALSE   FALSE  FALSE     FALSE      14810 13884       2.2      4    140      26       37      2676   104        183        68"
      ]
     },
     "execution_count": 42,
     "metadata": {},
     "output_type": "execute_result"
    }
   ],
   "source": [
    "cars.head()"
   ]
  },
  {
   "cell_type": "code",
   "execution_count": 81,
   "id": "976bf375",
   "metadata": {},
   "outputs": [],
   "source": [
    "cars = pd.read_csv('cars.csv', skiprows = 1)"
   ]
  },
  {
   "cell_type": "code",
   "execution_count": 83,
   "id": "0cd1090a",
   "metadata": {},
   "outputs": [
    {
     "data": {
      "text/plain": [
       "Index(['name', 'sports_car', 'suv', 'wagon', 'minivan', 'pickup', 'all_wheel',\n",
       "       'rear_wheel', 'msrp', 'dealer_cost', 'eng_size', 'ncyl', 'horsepwr',\n",
       "       'city_mpg', 'hwy_mpg', 'weight', 'wheel_base', 'length', 'width'],\n",
       "      dtype='object')"
      ]
     },
     "execution_count": 83,
     "metadata": {},
     "output_type": "execute_result"
    }
   ],
   "source": [
    "cars.columns"
   ]
  },
  {
   "cell_type": "code",
   "execution_count": 82,
   "id": "9329f0f3",
   "metadata": {},
   "outputs": [
    {
     "data": {
      "text/html": [
       "<div>\n",
       "<style scoped>\n",
       "    .dataframe tbody tr th:only-of-type {\n",
       "        vertical-align: middle;\n",
       "    }\n",
       "\n",
       "    .dataframe tbody tr th {\n",
       "        vertical-align: top;\n",
       "    }\n",
       "\n",
       "    .dataframe thead th {\n",
       "        text-align: right;\n",
       "    }\n",
       "</style>\n",
       "<table border=\"1\" class=\"dataframe\">\n",
       "  <thead>\n",
       "    <tr style=\"text-align: right;\">\n",
       "      <th></th>\n",
       "      <th>name</th>\n",
       "      <th>sports_car</th>\n",
       "      <th>suv</th>\n",
       "      <th>wagon</th>\n",
       "      <th>minivan</th>\n",
       "      <th>pickup</th>\n",
       "      <th>all_wheel</th>\n",
       "      <th>rear_wheel</th>\n",
       "      <th>msrp</th>\n",
       "      <th>dealer_cost</th>\n",
       "      <th>eng_size</th>\n",
       "      <th>ncyl</th>\n",
       "      <th>horsepwr</th>\n",
       "      <th>city_mpg</th>\n",
       "      <th>hwy_mpg</th>\n",
       "      <th>weight</th>\n",
       "      <th>wheel_base</th>\n",
       "      <th>length</th>\n",
       "      <th>width</th>\n",
       "    </tr>\n",
       "  </thead>\n",
       "  <tbody>\n",
       "    <tr>\n",
       "      <th>0</th>\n",
       "      <td>Chevrolet Aveo 4dr</td>\n",
       "      <td>False</td>\n",
       "      <td>False</td>\n",
       "      <td>False</td>\n",
       "      <td>False</td>\n",
       "      <td>False</td>\n",
       "      <td>False</td>\n",
       "      <td>False</td>\n",
       "      <td>11690</td>\n",
       "      <td>10965</td>\n",
       "      <td>1.6</td>\n",
       "      <td>4</td>\n",
       "      <td>103</td>\n",
       "      <td>28.0</td>\n",
       "      <td>34.0</td>\n",
       "      <td>2370.0</td>\n",
       "      <td>98.0</td>\n",
       "      <td>167.0</td>\n",
       "      <td>66.0</td>\n",
       "    </tr>\n",
       "    <tr>\n",
       "      <th>1</th>\n",
       "      <td>Chevrolet Aveo LS 4dr hatch</td>\n",
       "      <td>False</td>\n",
       "      <td>False</td>\n",
       "      <td>False</td>\n",
       "      <td>False</td>\n",
       "      <td>False</td>\n",
       "      <td>False</td>\n",
       "      <td>False</td>\n",
       "      <td>12585</td>\n",
       "      <td>11802</td>\n",
       "      <td>1.6</td>\n",
       "      <td>4</td>\n",
       "      <td>103</td>\n",
       "      <td>28.0</td>\n",
       "      <td>34.0</td>\n",
       "      <td>2348.0</td>\n",
       "      <td>98.0</td>\n",
       "      <td>153.0</td>\n",
       "      <td>66.0</td>\n",
       "    </tr>\n",
       "    <tr>\n",
       "      <th>2</th>\n",
       "      <td>Chevrolet Cavalier 2dr</td>\n",
       "      <td>False</td>\n",
       "      <td>False</td>\n",
       "      <td>False</td>\n",
       "      <td>False</td>\n",
       "      <td>False</td>\n",
       "      <td>False</td>\n",
       "      <td>False</td>\n",
       "      <td>14610</td>\n",
       "      <td>13697</td>\n",
       "      <td>2.2</td>\n",
       "      <td>4</td>\n",
       "      <td>140</td>\n",
       "      <td>26.0</td>\n",
       "      <td>37.0</td>\n",
       "      <td>2617.0</td>\n",
       "      <td>104.0</td>\n",
       "      <td>183.0</td>\n",
       "      <td>69.0</td>\n",
       "    </tr>\n",
       "    <tr>\n",
       "      <th>3</th>\n",
       "      <td>Chevrolet Cavalier 4dr</td>\n",
       "      <td>False</td>\n",
       "      <td>False</td>\n",
       "      <td>False</td>\n",
       "      <td>False</td>\n",
       "      <td>False</td>\n",
       "      <td>False</td>\n",
       "      <td>False</td>\n",
       "      <td>14810</td>\n",
       "      <td>13884</td>\n",
       "      <td>2.2</td>\n",
       "      <td>4</td>\n",
       "      <td>140</td>\n",
       "      <td>26.0</td>\n",
       "      <td>37.0</td>\n",
       "      <td>2676.0</td>\n",
       "      <td>104.0</td>\n",
       "      <td>183.0</td>\n",
       "      <td>68.0</td>\n",
       "    </tr>\n",
       "    <tr>\n",
       "      <th>4</th>\n",
       "      <td>Chevrolet Cavalier LS 2dr</td>\n",
       "      <td>False</td>\n",
       "      <td>False</td>\n",
       "      <td>False</td>\n",
       "      <td>False</td>\n",
       "      <td>False</td>\n",
       "      <td>False</td>\n",
       "      <td>False</td>\n",
       "      <td>16385</td>\n",
       "      <td>15357</td>\n",
       "      <td>2.2</td>\n",
       "      <td>4</td>\n",
       "      <td>140</td>\n",
       "      <td>26.0</td>\n",
       "      <td>37.0</td>\n",
       "      <td>2617.0</td>\n",
       "      <td>104.0</td>\n",
       "      <td>183.0</td>\n",
       "      <td>69.0</td>\n",
       "    </tr>\n",
       "  </tbody>\n",
       "</table>\n",
       "</div>"
      ],
      "text/plain": [
       "                          name  sports_car    suv  wagon  minivan  pickup  \\\n",
       "0           Chevrolet Aveo 4dr       False  False  False    False   False   \n",
       "1  Chevrolet Aveo LS 4dr hatch       False  False  False    False   False   \n",
       "2       Chevrolet Cavalier 2dr       False  False  False    False   False   \n",
       "3       Chevrolet Cavalier 4dr       False  False  False    False   False   \n",
       "4    Chevrolet Cavalier LS 2dr       False  False  False    False   False   \n",
       "\n",
       "   all_wheel  rear_wheel   msrp  dealer_cost  eng_size  ncyl  horsepwr  \\\n",
       "0      False       False  11690        10965       1.6     4       103   \n",
       "1      False       False  12585        11802       1.6     4       103   \n",
       "2      False       False  14610        13697       2.2     4       140   \n",
       "3      False       False  14810        13884       2.2     4       140   \n",
       "4      False       False  16385        15357       2.2     4       140   \n",
       "\n",
       "   city_mpg  hwy_mpg  weight  wheel_base  length  width  \n",
       "0      28.0     34.0  2370.0        98.0   167.0   66.0  \n",
       "1      28.0     34.0  2348.0        98.0   153.0   66.0  \n",
       "2      26.0     37.0  2617.0       104.0   183.0   69.0  \n",
       "3      26.0     37.0  2676.0       104.0   183.0   68.0  \n",
       "4      26.0     37.0  2617.0       104.0   183.0   69.0  "
      ]
     },
     "execution_count": 82,
     "metadata": {},
     "output_type": "execute_result"
    }
   ],
   "source": [
    "cars.head()"
   ]
  },
  {
   "cell_type": "code",
   "execution_count": 84,
   "id": "988b3059",
   "metadata": {},
   "outputs": [
    {
     "data": {
      "text/plain": [
       "(428, 19)"
      ]
     },
     "execution_count": 84,
     "metadata": {},
     "output_type": "execute_result"
    }
   ],
   "source": [
    "cars.shape"
   ]
  },
  {
   "cell_type": "code",
   "execution_count": 47,
   "id": "2a16ea78",
   "metadata": {},
   "outputs": [],
   "source": [
    "# 3- How many unique numbers of cylinders we have in the cars dataset?"
   ]
  },
  {
   "cell_type": "code",
   "execution_count": 48,
   "id": "507b55ac",
   "metadata": {},
   "outputs": [
    {
     "data": {
      "text/plain": [
       "Index(['name', 'sports_car', 'suv', 'wagon', 'minivan', 'pickup', 'all_wheel',\n",
       "       'rear_wheel', 'msrp', 'dealer_cost', 'eng_size', 'ncyl', 'horsepwr',\n",
       "       'city_mpg', 'hwy_mpg', 'weight', 'wheel_base', 'length', 'width'],\n",
       "      dtype='object')"
      ]
     },
     "execution_count": 48,
     "metadata": {},
     "output_type": "execute_result"
    }
   ],
   "source": [
    "cars.columns"
   ]
  },
  {
   "cell_type": "code",
   "execution_count": 49,
   "id": "a5292554",
   "metadata": {},
   "outputs": [
    {
     "data": {
      "text/plain": [
       " 6     190\n",
       " 4     136\n",
       " 8      87\n",
       " 5       7\n",
       " 12      3\n",
       " 10      2\n",
       "-1       2\n",
       " 3       1\n",
       "Name: ncyl, dtype: int64"
      ]
     },
     "execution_count": 49,
     "metadata": {},
     "output_type": "execute_result"
    }
   ],
   "source": [
    "cars.ncyl.value_counts()"
   ]
  },
  {
   "cell_type": "code",
   "execution_count": 50,
   "id": "b569a324",
   "metadata": {},
   "outputs": [
    {
     "data": {
      "text/plain": [
       "array([ 4,  6,  3,  8,  5, 12, 10, -1])"
      ]
     },
     "execution_count": 50,
     "metadata": {},
     "output_type": "execute_result"
    }
   ],
   "source": [
    "cars.ncyl.unique()"
   ]
  },
  {
   "cell_type": "code",
   "execution_count": 51,
   "id": "dd7ed52d",
   "metadata": {},
   "outputs": [
    {
     "data": {
      "text/plain": [
       "(428, 19)"
      ]
     },
     "execution_count": 51,
     "metadata": {},
     "output_type": "execute_result"
    }
   ],
   "source": [
    "cars.shape"
   ]
  },
  {
   "cell_type": "code",
   "execution_count": 52,
   "id": "01813fdc",
   "metadata": {},
   "outputs": [
    {
     "data": {
      "text/html": [
       "<div>\n",
       "<style scoped>\n",
       "    .dataframe tbody tr th:only-of-type {\n",
       "        vertical-align: middle;\n",
       "    }\n",
       "\n",
       "    .dataframe tbody tr th {\n",
       "        vertical-align: top;\n",
       "    }\n",
       "\n",
       "    .dataframe thead th {\n",
       "        text-align: right;\n",
       "    }\n",
       "</style>\n",
       "<table border=\"1\" class=\"dataframe\">\n",
       "  <thead>\n",
       "    <tr style=\"text-align: right;\">\n",
       "      <th></th>\n",
       "      <th>name</th>\n",
       "      <th>sports_car</th>\n",
       "      <th>suv</th>\n",
       "      <th>wagon</th>\n",
       "      <th>minivan</th>\n",
       "      <th>pickup</th>\n",
       "      <th>all_wheel</th>\n",
       "      <th>rear_wheel</th>\n",
       "      <th>msrp</th>\n",
       "      <th>dealer_cost</th>\n",
       "      <th>eng_size</th>\n",
       "      <th>ncyl</th>\n",
       "      <th>horsepwr</th>\n",
       "      <th>city_mpg</th>\n",
       "      <th>hwy_mpg</th>\n",
       "      <th>weight</th>\n",
       "      <th>wheel_base</th>\n",
       "      <th>length</th>\n",
       "      <th>width</th>\n",
       "    </tr>\n",
       "  </thead>\n",
       "  <tbody>\n",
       "    <tr>\n",
       "      <th>0</th>\n",
       "      <td>Chevrolet Aveo 4dr</td>\n",
       "      <td>False</td>\n",
       "      <td>False</td>\n",
       "      <td>False</td>\n",
       "      <td>False</td>\n",
       "      <td>False</td>\n",
       "      <td>False</td>\n",
       "      <td>False</td>\n",
       "      <td>11690</td>\n",
       "      <td>10965</td>\n",
       "      <td>1.6</td>\n",
       "      <td>4</td>\n",
       "      <td>103</td>\n",
       "      <td>28.0</td>\n",
       "      <td>34.0</td>\n",
       "      <td>2370.0</td>\n",
       "      <td>98.0</td>\n",
       "      <td>167.0</td>\n",
       "      <td>66.0</td>\n",
       "    </tr>\n",
       "    <tr>\n",
       "      <th>1</th>\n",
       "      <td>Chevrolet Aveo LS 4dr hatch</td>\n",
       "      <td>False</td>\n",
       "      <td>False</td>\n",
       "      <td>False</td>\n",
       "      <td>False</td>\n",
       "      <td>False</td>\n",
       "      <td>False</td>\n",
       "      <td>False</td>\n",
       "      <td>12585</td>\n",
       "      <td>11802</td>\n",
       "      <td>1.6</td>\n",
       "      <td>4</td>\n",
       "      <td>103</td>\n",
       "      <td>28.0</td>\n",
       "      <td>34.0</td>\n",
       "      <td>2348.0</td>\n",
       "      <td>98.0</td>\n",
       "      <td>153.0</td>\n",
       "      <td>66.0</td>\n",
       "    </tr>\n",
       "    <tr>\n",
       "      <th>2</th>\n",
       "      <td>Chevrolet Cavalier 2dr</td>\n",
       "      <td>False</td>\n",
       "      <td>False</td>\n",
       "      <td>False</td>\n",
       "      <td>False</td>\n",
       "      <td>False</td>\n",
       "      <td>False</td>\n",
       "      <td>False</td>\n",
       "      <td>14610</td>\n",
       "      <td>13697</td>\n",
       "      <td>2.2</td>\n",
       "      <td>4</td>\n",
       "      <td>140</td>\n",
       "      <td>26.0</td>\n",
       "      <td>37.0</td>\n",
       "      <td>2617.0</td>\n",
       "      <td>104.0</td>\n",
       "      <td>183.0</td>\n",
       "      <td>69.0</td>\n",
       "    </tr>\n",
       "    <tr>\n",
       "      <th>3</th>\n",
       "      <td>Chevrolet Cavalier 4dr</td>\n",
       "      <td>False</td>\n",
       "      <td>False</td>\n",
       "      <td>False</td>\n",
       "      <td>False</td>\n",
       "      <td>False</td>\n",
       "      <td>False</td>\n",
       "      <td>False</td>\n",
       "      <td>14810</td>\n",
       "      <td>13884</td>\n",
       "      <td>2.2</td>\n",
       "      <td>4</td>\n",
       "      <td>140</td>\n",
       "      <td>26.0</td>\n",
       "      <td>37.0</td>\n",
       "      <td>2676.0</td>\n",
       "      <td>104.0</td>\n",
       "      <td>183.0</td>\n",
       "      <td>68.0</td>\n",
       "    </tr>\n",
       "    <tr>\n",
       "      <th>4</th>\n",
       "      <td>Chevrolet Cavalier LS 2dr</td>\n",
       "      <td>False</td>\n",
       "      <td>False</td>\n",
       "      <td>False</td>\n",
       "      <td>False</td>\n",
       "      <td>False</td>\n",
       "      <td>False</td>\n",
       "      <td>False</td>\n",
       "      <td>16385</td>\n",
       "      <td>15357</td>\n",
       "      <td>2.2</td>\n",
       "      <td>4</td>\n",
       "      <td>140</td>\n",
       "      <td>26.0</td>\n",
       "      <td>37.0</td>\n",
       "      <td>2617.0</td>\n",
       "      <td>104.0</td>\n",
       "      <td>183.0</td>\n",
       "      <td>69.0</td>\n",
       "    </tr>\n",
       "  </tbody>\n",
       "</table>\n",
       "</div>"
      ],
      "text/plain": [
       "                          name  sports_car    suv  wagon  minivan  pickup  \\\n",
       "0           Chevrolet Aveo 4dr       False  False  False    False   False   \n",
       "1  Chevrolet Aveo LS 4dr hatch       False  False  False    False   False   \n",
       "2       Chevrolet Cavalier 2dr       False  False  False    False   False   \n",
       "3       Chevrolet Cavalier 4dr       False  False  False    False   False   \n",
       "4    Chevrolet Cavalier LS 2dr       False  False  False    False   False   \n",
       "\n",
       "   all_wheel  rear_wheel   msrp  dealer_cost  eng_size  ncyl  horsepwr  \\\n",
       "0      False       False  11690        10965       1.6     4       103   \n",
       "1      False       False  12585        11802       1.6     4       103   \n",
       "2      False       False  14610        13697       2.2     4       140   \n",
       "3      False       False  14810        13884       2.2     4       140   \n",
       "4      False       False  16385        15357       2.2     4       140   \n",
       "\n",
       "   city_mpg  hwy_mpg  weight  wheel_base  length  width  \n",
       "0      28.0     34.0  2370.0        98.0   167.0   66.0  \n",
       "1      28.0     34.0  2348.0        98.0   153.0   66.0  \n",
       "2      26.0     37.0  2617.0       104.0   183.0   69.0  \n",
       "3      26.0     37.0  2676.0       104.0   183.0   68.0  \n",
       "4      26.0     37.0  2617.0       104.0   183.0   69.0  "
      ]
     },
     "execution_count": 52,
     "metadata": {},
     "output_type": "execute_result"
    }
   ],
   "source": [
    "cars.head()"
   ]
  },
  {
   "cell_type": "code",
   "execution_count": 65,
   "id": "4dd9d64a",
   "metadata": {},
   "outputs": [
    {
     "data": {
      "text/html": [
       "<div>\n",
       "<style scoped>\n",
       "    .dataframe tbody tr th:only-of-type {\n",
       "        vertical-align: middle;\n",
       "    }\n",
       "\n",
       "    .dataframe tbody tr th {\n",
       "        vertical-align: top;\n",
       "    }\n",
       "\n",
       "    .dataframe thead th {\n",
       "        text-align: right;\n",
       "    }\n",
       "</style>\n",
       "<table border=\"1\" class=\"dataframe\">\n",
       "  <thead>\n",
       "    <tr style=\"text-align: right;\">\n",
       "      <th></th>\n",
       "      <th>name</th>\n",
       "      <th>sports_car</th>\n",
       "      <th>suv</th>\n",
       "      <th>wagon</th>\n",
       "      <th>minivan</th>\n",
       "      <th>pickup</th>\n",
       "      <th>all_wheel</th>\n",
       "      <th>rear_wheel</th>\n",
       "      <th>msrp</th>\n",
       "      <th>dealer_cost</th>\n",
       "      <th>eng_size</th>\n",
       "      <th>ncyl</th>\n",
       "      <th>horsepwr</th>\n",
       "      <th>city_mpg</th>\n",
       "      <th>hwy_mpg</th>\n",
       "      <th>weight</th>\n",
       "      <th>wheel_base</th>\n",
       "      <th>length</th>\n",
       "      <th>width</th>\n",
       "      <th>car name</th>\n",
       "    </tr>\n",
       "  </thead>\n",
       "  <tbody>\n",
       "    <tr>\n",
       "      <th>0</th>\n",
       "      <td>Chevrolet Aveo 4dr</td>\n",
       "      <td>False</td>\n",
       "      <td>False</td>\n",
       "      <td>False</td>\n",
       "      <td>False</td>\n",
       "      <td>False</td>\n",
       "      <td>False</td>\n",
       "      <td>False</td>\n",
       "      <td>11690</td>\n",
       "      <td>10965</td>\n",
       "      <td>1.6</td>\n",
       "      <td>4</td>\n",
       "      <td>103</td>\n",
       "      <td>28.0</td>\n",
       "      <td>34.0</td>\n",
       "      <td>2370.0</td>\n",
       "      <td>98.0</td>\n",
       "      <td>167.0</td>\n",
       "      <td>66.0</td>\n",
       "      <td>Chevrolet Aveo 4dr</td>\n",
       "    </tr>\n",
       "    <tr>\n",
       "      <th>1</th>\n",
       "      <td>Chevrolet Aveo LS 4dr hatch</td>\n",
       "      <td>False</td>\n",
       "      <td>False</td>\n",
       "      <td>False</td>\n",
       "      <td>False</td>\n",
       "      <td>False</td>\n",
       "      <td>False</td>\n",
       "      <td>False</td>\n",
       "      <td>12585</td>\n",
       "      <td>11802</td>\n",
       "      <td>1.6</td>\n",
       "      <td>4</td>\n",
       "      <td>103</td>\n",
       "      <td>28.0</td>\n",
       "      <td>34.0</td>\n",
       "      <td>2348.0</td>\n",
       "      <td>98.0</td>\n",
       "      <td>153.0</td>\n",
       "      <td>66.0</td>\n",
       "      <td>Chevrolet Aveo LS 4dr hatch</td>\n",
       "    </tr>\n",
       "    <tr>\n",
       "      <th>2</th>\n",
       "      <td>Chevrolet Cavalier 2dr</td>\n",
       "      <td>False</td>\n",
       "      <td>False</td>\n",
       "      <td>False</td>\n",
       "      <td>False</td>\n",
       "      <td>False</td>\n",
       "      <td>False</td>\n",
       "      <td>False</td>\n",
       "      <td>14610</td>\n",
       "      <td>13697</td>\n",
       "      <td>2.2</td>\n",
       "      <td>4</td>\n",
       "      <td>140</td>\n",
       "      <td>26.0</td>\n",
       "      <td>37.0</td>\n",
       "      <td>2617.0</td>\n",
       "      <td>104.0</td>\n",
       "      <td>183.0</td>\n",
       "      <td>69.0</td>\n",
       "      <td>Chevrolet Cavalier 2dr</td>\n",
       "    </tr>\n",
       "    <tr>\n",
       "      <th>3</th>\n",
       "      <td>Chevrolet Cavalier 4dr</td>\n",
       "      <td>False</td>\n",
       "      <td>False</td>\n",
       "      <td>False</td>\n",
       "      <td>False</td>\n",
       "      <td>False</td>\n",
       "      <td>False</td>\n",
       "      <td>False</td>\n",
       "      <td>14810</td>\n",
       "      <td>13884</td>\n",
       "      <td>2.2</td>\n",
       "      <td>4</td>\n",
       "      <td>140</td>\n",
       "      <td>26.0</td>\n",
       "      <td>37.0</td>\n",
       "      <td>2676.0</td>\n",
       "      <td>104.0</td>\n",
       "      <td>183.0</td>\n",
       "      <td>68.0</td>\n",
       "      <td>Chevrolet Cavalier 4dr</td>\n",
       "    </tr>\n",
       "    <tr>\n",
       "      <th>4</th>\n",
       "      <td>Chevrolet Cavalier LS 2dr</td>\n",
       "      <td>False</td>\n",
       "      <td>False</td>\n",
       "      <td>False</td>\n",
       "      <td>False</td>\n",
       "      <td>False</td>\n",
       "      <td>False</td>\n",
       "      <td>False</td>\n",
       "      <td>16385</td>\n",
       "      <td>15357</td>\n",
       "      <td>2.2</td>\n",
       "      <td>4</td>\n",
       "      <td>140</td>\n",
       "      <td>26.0</td>\n",
       "      <td>37.0</td>\n",
       "      <td>2617.0</td>\n",
       "      <td>104.0</td>\n",
       "      <td>183.0</td>\n",
       "      <td>69.0</td>\n",
       "      <td>Chevrolet Cavalier LS 2dr</td>\n",
       "    </tr>\n",
       "  </tbody>\n",
       "</table>\n",
       "</div>"
      ],
      "text/plain": [
       "                          name  sports_car    suv  wagon  minivan  pickup  \\\n",
       "0           Chevrolet Aveo 4dr       False  False  False    False   False   \n",
       "1  Chevrolet Aveo LS 4dr hatch       False  False  False    False   False   \n",
       "2       Chevrolet Cavalier 2dr       False  False  False    False   False   \n",
       "3       Chevrolet Cavalier 4dr       False  False  False    False   False   \n",
       "4    Chevrolet Cavalier LS 2dr       False  False  False    False   False   \n",
       "\n",
       "   all_wheel  rear_wheel   msrp  dealer_cost  eng_size  ncyl  horsepwr  \\\n",
       "0      False       False  11690        10965       1.6     4       103   \n",
       "1      False       False  12585        11802       1.6     4       103   \n",
       "2      False       False  14610        13697       2.2     4       140   \n",
       "3      False       False  14810        13884       2.2     4       140   \n",
       "4      False       False  16385        15357       2.2     4       140   \n",
       "\n",
       "   city_mpg  hwy_mpg  weight  wheel_base  length  width  \\\n",
       "0      28.0     34.0  2370.0        98.0   167.0   66.0   \n",
       "1      28.0     34.0  2348.0        98.0   153.0   66.0   \n",
       "2      26.0     37.0  2617.0       104.0   183.0   69.0   \n",
       "3      26.0     37.0  2676.0       104.0   183.0   68.0   \n",
       "4      26.0     37.0  2617.0       104.0   183.0   69.0   \n",
       "\n",
       "                      car name  \n",
       "0           Chevrolet Aveo 4dr  \n",
       "1  Chevrolet Aveo LS 4dr hatch  \n",
       "2       Chevrolet Cavalier 2dr  \n",
       "3       Chevrolet Cavalier 4dr  \n",
       "4    Chevrolet Cavalier LS 2dr  "
      ]
     },
     "execution_count": 65,
     "metadata": {},
     "output_type": "execute_result"
    }
   ],
   "source": [
    "cars.head()"
   ]
  },
  {
   "cell_type": "code",
   "execution_count": 53,
   "id": "02856c2d",
   "metadata": {},
   "outputs": [
    {
     "data": {
      "text/html": [
       "<div>\n",
       "<style scoped>\n",
       "    .dataframe tbody tr th:only-of-type {\n",
       "        vertical-align: middle;\n",
       "    }\n",
       "\n",
       "    .dataframe tbody tr th {\n",
       "        vertical-align: top;\n",
       "    }\n",
       "\n",
       "    .dataframe thead th {\n",
       "        text-align: right;\n",
       "    }\n",
       "</style>\n",
       "<table border=\"1\" class=\"dataframe\">\n",
       "  <thead>\n",
       "    <tr style=\"text-align: right;\">\n",
       "      <th></th>\n",
       "      <th>name</th>\n",
       "      <th>sports_car</th>\n",
       "      <th>suv</th>\n",
       "      <th>wagon</th>\n",
       "      <th>minivan</th>\n",
       "      <th>pickup</th>\n",
       "      <th>all_wheel</th>\n",
       "      <th>rear_wheel</th>\n",
       "      <th>msrp</th>\n",
       "      <th>dealer_cost</th>\n",
       "      <th>eng_size</th>\n",
       "      <th>ncyl</th>\n",
       "      <th>horsepwr</th>\n",
       "      <th>city_mpg</th>\n",
       "      <th>hwy_mpg</th>\n",
       "      <th>weight</th>\n",
       "      <th>wheel_base</th>\n",
       "      <th>length</th>\n",
       "      <th>width</th>\n",
       "    </tr>\n",
       "  </thead>\n",
       "  <tbody>\n",
       "    <tr>\n",
       "      <th>423</th>\n",
       "      <td>Nissan Titan King Cab XE</td>\n",
       "      <td>False</td>\n",
       "      <td>False</td>\n",
       "      <td>False</td>\n",
       "      <td>False</td>\n",
       "      <td>True</td>\n",
       "      <td>True</td>\n",
       "      <td>False</td>\n",
       "      <td>26650</td>\n",
       "      <td>24926</td>\n",
       "      <td>5.6</td>\n",
       "      <td>8</td>\n",
       "      <td>305</td>\n",
       "      <td>14.0</td>\n",
       "      <td>18.0</td>\n",
       "      <td>5287.0</td>\n",
       "      <td>140.0</td>\n",
       "      <td>NaN</td>\n",
       "      <td>NaN</td>\n",
       "    </tr>\n",
       "    <tr>\n",
       "      <th>424</th>\n",
       "      <td>Subaru Baja</td>\n",
       "      <td>False</td>\n",
       "      <td>False</td>\n",
       "      <td>False</td>\n",
       "      <td>False</td>\n",
       "      <td>True</td>\n",
       "      <td>True</td>\n",
       "      <td>False</td>\n",
       "      <td>24520</td>\n",
       "      <td>22304</td>\n",
       "      <td>2.5</td>\n",
       "      <td>4</td>\n",
       "      <td>165</td>\n",
       "      <td>21.0</td>\n",
       "      <td>28.0</td>\n",
       "      <td>3485.0</td>\n",
       "      <td>104.0</td>\n",
       "      <td>NaN</td>\n",
       "      <td>NaN</td>\n",
       "    </tr>\n",
       "    <tr>\n",
       "      <th>425</th>\n",
       "      <td>Toyota Tacoma</td>\n",
       "      <td>False</td>\n",
       "      <td>False</td>\n",
       "      <td>False</td>\n",
       "      <td>False</td>\n",
       "      <td>True</td>\n",
       "      <td>False</td>\n",
       "      <td>True</td>\n",
       "      <td>12800</td>\n",
       "      <td>11879</td>\n",
       "      <td>2.4</td>\n",
       "      <td>4</td>\n",
       "      <td>142</td>\n",
       "      <td>22.0</td>\n",
       "      <td>27.0</td>\n",
       "      <td>2750.0</td>\n",
       "      <td>103.0</td>\n",
       "      <td>NaN</td>\n",
       "      <td>NaN</td>\n",
       "    </tr>\n",
       "    <tr>\n",
       "      <th>426</th>\n",
       "      <td>Toyota Tundra Regular Cab V6</td>\n",
       "      <td>False</td>\n",
       "      <td>False</td>\n",
       "      <td>False</td>\n",
       "      <td>False</td>\n",
       "      <td>True</td>\n",
       "      <td>False</td>\n",
       "      <td>True</td>\n",
       "      <td>16495</td>\n",
       "      <td>14978</td>\n",
       "      <td>3.4</td>\n",
       "      <td>6</td>\n",
       "      <td>190</td>\n",
       "      <td>16.0</td>\n",
       "      <td>20.0</td>\n",
       "      <td>3925.0</td>\n",
       "      <td>128.0</td>\n",
       "      <td>NaN</td>\n",
       "      <td>NaN</td>\n",
       "    </tr>\n",
       "    <tr>\n",
       "      <th>427</th>\n",
       "      <td>Toyota Tundra Access Cab V6 SR5</td>\n",
       "      <td>False</td>\n",
       "      <td>False</td>\n",
       "      <td>False</td>\n",
       "      <td>False</td>\n",
       "      <td>True</td>\n",
       "      <td>True</td>\n",
       "      <td>False</td>\n",
       "      <td>25935</td>\n",
       "      <td>23520</td>\n",
       "      <td>3.4</td>\n",
       "      <td>6</td>\n",
       "      <td>190</td>\n",
       "      <td>14.0</td>\n",
       "      <td>17.0</td>\n",
       "      <td>4435.0</td>\n",
       "      <td>128.0</td>\n",
       "      <td>NaN</td>\n",
       "      <td>NaN</td>\n",
       "    </tr>\n",
       "  </tbody>\n",
       "</table>\n",
       "</div>"
      ],
      "text/plain": [
       "                                name  sports_car    suv  wagon  minivan  \\\n",
       "423         Nissan Titan King Cab XE       False  False  False    False   \n",
       "424                      Subaru Baja       False  False  False    False   \n",
       "425                    Toyota Tacoma       False  False  False    False   \n",
       "426     Toyota Tundra Regular Cab V6       False  False  False    False   \n",
       "427  Toyota Tundra Access Cab V6 SR5       False  False  False    False   \n",
       "\n",
       "     pickup  all_wheel  rear_wheel   msrp  dealer_cost  eng_size  ncyl  \\\n",
       "423    True       True       False  26650        24926       5.6     8   \n",
       "424    True       True       False  24520        22304       2.5     4   \n",
       "425    True      False        True  12800        11879       2.4     4   \n",
       "426    True      False        True  16495        14978       3.4     6   \n",
       "427    True       True       False  25935        23520       3.4     6   \n",
       "\n",
       "     horsepwr  city_mpg  hwy_mpg  weight  wheel_base  length  width  \n",
       "423       305      14.0     18.0  5287.0       140.0     NaN    NaN  \n",
       "424       165      21.0     28.0  3485.0       104.0     NaN    NaN  \n",
       "425       142      22.0     27.0  2750.0       103.0     NaN    NaN  \n",
       "426       190      16.0     20.0  3925.0       128.0     NaN    NaN  \n",
       "427       190      14.0     17.0  4435.0       128.0     NaN    NaN  "
      ]
     },
     "execution_count": 53,
     "metadata": {},
     "output_type": "execute_result"
    }
   ],
   "source": [
    "cars.tail()"
   ]
  },
  {
   "cell_type": "code",
   "execution_count": 54,
   "id": "e1e83797",
   "metadata": {},
   "outputs": [],
   "source": [
    "# 4- what is the average horsepower of cars? "
   ]
  },
  {
   "cell_type": "code",
   "execution_count": 55,
   "id": "5627a4d1",
   "metadata": {},
   "outputs": [
    {
     "data": {
      "text/plain": [
       "Index(['name', 'sports_car', 'suv', 'wagon', 'minivan', 'pickup', 'all_wheel',\n",
       "       'rear_wheel', 'msrp', 'dealer_cost', 'eng_size', 'ncyl', 'horsepwr',\n",
       "       'city_mpg', 'hwy_mpg', 'weight', 'wheel_base', 'length', 'width'],\n",
       "      dtype='object')"
      ]
     },
     "execution_count": 55,
     "metadata": {},
     "output_type": "execute_result"
    }
   ],
   "source": [
    "cars.columns"
   ]
  },
  {
   "cell_type": "code",
   "execution_count": 56,
   "id": "ccaee8a8",
   "metadata": {},
   "outputs": [
    {
     "data": {
      "text/plain": [
       "count    428.000000\n",
       "mean     215.885514\n",
       "std       71.836032\n",
       "min       73.000000\n",
       "25%      165.000000\n",
       "50%      210.000000\n",
       "75%      255.000000\n",
       "max      500.000000\n",
       "Name: horsepwr, dtype: float64"
      ]
     },
     "execution_count": 56,
     "metadata": {},
     "output_type": "execute_result"
    }
   ],
   "source": [
    "cars.horsepwr.describe()"
   ]
  },
  {
   "cell_type": "code",
   "execution_count": 57,
   "id": "cda4a50d",
   "metadata": {},
   "outputs": [],
   "source": [
    "# 5- what is the maximum horsepower?\n",
    "max      500.000000"
   ]
  },
  {
   "cell_type": "code",
   "execution_count": 58,
   "id": "9a63e865",
   "metadata": {},
   "outputs": [],
   "source": [
    "# 6- what is the most expensive car?"
   ]
  },
  {
   "cell_type": "code",
   "execution_count": 59,
   "id": "baf7ee53",
   "metadata": {},
   "outputs": [
    {
     "data": {
      "text/html": [
       "<div>\n",
       "<style scoped>\n",
       "    .dataframe tbody tr th:only-of-type {\n",
       "        vertical-align: middle;\n",
       "    }\n",
       "\n",
       "    .dataframe tbody tr th {\n",
       "        vertical-align: top;\n",
       "    }\n",
       "\n",
       "    .dataframe thead th {\n",
       "        text-align: right;\n",
       "    }\n",
       "</style>\n",
       "<table border=\"1\" class=\"dataframe\">\n",
       "  <thead>\n",
       "    <tr style=\"text-align: right;\">\n",
       "      <th></th>\n",
       "      <th>name</th>\n",
       "      <th>sports_car</th>\n",
       "      <th>suv</th>\n",
       "      <th>wagon</th>\n",
       "      <th>minivan</th>\n",
       "      <th>pickup</th>\n",
       "      <th>all_wheel</th>\n",
       "      <th>rear_wheel</th>\n",
       "      <th>msrp</th>\n",
       "      <th>dealer_cost</th>\n",
       "      <th>eng_size</th>\n",
       "      <th>ncyl</th>\n",
       "      <th>horsepwr</th>\n",
       "      <th>city_mpg</th>\n",
       "      <th>hwy_mpg</th>\n",
       "      <th>weight</th>\n",
       "      <th>wheel_base</th>\n",
       "      <th>length</th>\n",
       "      <th>width</th>\n",
       "    </tr>\n",
       "  </thead>\n",
       "  <tbody>\n",
       "    <tr>\n",
       "      <th>287</th>\n",
       "      <td>Porsche 911 GT2 2dr</td>\n",
       "      <td>True</td>\n",
       "      <td>False</td>\n",
       "      <td>False</td>\n",
       "      <td>False</td>\n",
       "      <td>False</td>\n",
       "      <td>False</td>\n",
       "      <td>True</td>\n",
       "      <td>192465</td>\n",
       "      <td>173560</td>\n",
       "      <td>3.6</td>\n",
       "      <td>6</td>\n",
       "      <td>477</td>\n",
       "      <td>17.0</td>\n",
       "      <td>24.0</td>\n",
       "      <td>3131.0</td>\n",
       "      <td>93.0</td>\n",
       "      <td>175.0</td>\n",
       "      <td>72.0</td>\n",
       "    </tr>\n",
       "  </tbody>\n",
       "</table>\n",
       "</div>"
      ],
      "text/plain": [
       "                    name  sports_car    suv  wagon  minivan  pickup  \\\n",
       "287  Porsche 911 GT2 2dr        True  False  False    False   False   \n",
       "\n",
       "     all_wheel  rear_wheel    msrp  dealer_cost  eng_size  ncyl  horsepwr  \\\n",
       "287      False        True  192465       173560       3.6     6       477   \n",
       "\n",
       "     city_mpg  hwy_mpg  weight  wheel_base  length  width  \n",
       "287      17.0     24.0  3131.0        93.0   175.0   72.0  "
      ]
     },
     "execution_count": 59,
     "metadata": {},
     "output_type": "execute_result"
    }
   ],
   "source": [
    "cars[cars.dealer_cost == max(cars.dealer_cost)]"
   ]
  },
  {
   "cell_type": "code",
   "execution_count": 60,
   "id": "e5b5ed47",
   "metadata": {},
   "outputs": [],
   "source": [
    "# 7- change the name of the column \"name\" to \"car name\""
   ]
  },
  {
   "cell_type": "code",
   "execution_count": 61,
   "id": "d102535c",
   "metadata": {},
   "outputs": [
    {
     "data": {
      "text/plain": [
       "Index(['name', 'sports_car', 'suv', 'wagon', 'minivan', 'pickup', 'all_wheel',\n",
       "       'rear_wheel', 'msrp', 'dealer_cost', 'eng_size', 'ncyl', 'horsepwr',\n",
       "       'city_mpg', 'hwy_mpg', 'weight', 'wheel_base', 'length', 'width'],\n",
       "      dtype='object')"
      ]
     },
     "execution_count": 61,
     "metadata": {},
     "output_type": "execute_result"
    }
   ],
   "source": [
    "cars.columns"
   ]
  },
  {
   "cell_type": "code",
   "execution_count": 63,
   "id": "0fc28834",
   "metadata": {},
   "outputs": [],
   "source": [
    "cars['car name'] = cars['name']"
   ]
  },
  {
   "cell_type": "code",
   "execution_count": 64,
   "id": "7dc0cb3c",
   "metadata": {},
   "outputs": [
    {
     "data": {
      "text/plain": [
       "Index(['name', 'sports_car', 'suv', 'wagon', 'minivan', 'pickup', 'all_wheel',\n",
       "       'rear_wheel', 'msrp', 'dealer_cost', 'eng_size', 'ncyl', 'horsepwr',\n",
       "       'city_mpg', 'hwy_mpg', 'weight', 'wheel_base', 'length', 'width',\n",
       "       'car name'],\n",
       "      dtype='object')"
      ]
     },
     "execution_count": 64,
     "metadata": {},
     "output_type": "execute_result"
    }
   ],
   "source": [
    "cars.columns"
   ]
  },
  {
   "cell_type": "code",
   "execution_count": 66,
   "id": "fb85f49f",
   "metadata": {},
   "outputs": [
    {
     "data": {
      "text/plain": [
       "(428, 20)"
      ]
     },
     "execution_count": 66,
     "metadata": {},
     "output_type": "execute_result"
    }
   ],
   "source": [
    "cars.shape"
   ]
  },
  {
   "cell_type": "code",
   "execution_count": 69,
   "id": "d1687588",
   "metadata": {},
   "outputs": [],
   "source": [
    "# data.drop([\"Team\", \"Weight\"], axis = 1, inplace = True)\n",
    "cars.drop(\"car name\",axis = 1, inplace = True)"
   ]
  },
  {
   "cell_type": "code",
   "execution_count": 87,
   "id": "f487d0ca",
   "metadata": {},
   "outputs": [
    {
     "data": {
      "text/plain": [
       "(428, 19)"
      ]
     },
     "execution_count": 87,
     "metadata": {},
     "output_type": "execute_result"
    }
   ],
   "source": [
    "cars.shape"
   ]
  },
  {
   "cell_type": "code",
   "execution_count": 71,
   "id": "f7c33132",
   "metadata": {},
   "outputs": [
    {
     "data": {
      "text/plain": [
       "Index(['name', 'sports_car', 'suv', 'wagon', 'minivan', 'pickup', 'all_wheel',\n",
       "       'rear_wheel', 'msrp', 'dealer_cost', 'eng_size', 'ncyl', 'horsepwr',\n",
       "       'city_mpg', 'hwy_mpg', 'weight', 'wheel_base', 'length', 'width'],\n",
       "      dtype='object')"
      ]
     },
     "execution_count": 71,
     "metadata": {},
     "output_type": "execute_result"
    }
   ],
   "source": [
    "cars.columns"
   ]
  },
  {
   "cell_type": "code",
   "execution_count": 72,
   "id": "9a238657",
   "metadata": {},
   "outputs": [],
   "source": [
    "# 7- change the name of the column \"name\" to \"car name\""
   ]
  },
  {
   "cell_type": "code",
   "execution_count": 85,
   "id": "b9fc6158",
   "metadata": {},
   "outputs": [],
   "source": [
    "cars = cars.rename(columns = {'name':'car name'})"
   ]
  },
  {
   "cell_type": "code",
   "execution_count": 86,
   "id": "254e831f",
   "metadata": {},
   "outputs": [
    {
     "data": {
      "text/plain": [
       "Index(['car name', 'sports_car', 'suv', 'wagon', 'minivan', 'pickup',\n",
       "       'all_wheel', 'rear_wheel', 'msrp', 'dealer_cost', 'eng_size', 'ncyl',\n",
       "       'horsepwr', 'city_mpg', 'hwy_mpg', 'weight', 'wheel_base', 'length',\n",
       "       'width'],\n",
       "      dtype='object')"
      ]
     },
     "execution_count": 86,
     "metadata": {},
     "output_type": "execute_result"
    }
   ],
   "source": [
    "cars.columns"
   ]
  },
  {
   "cell_type": "code",
   "execution_count": 76,
   "id": "10721c67",
   "metadata": {},
   "outputs": [],
   "source": [
    "# 8- make a subset of the data that has the car name, \n",
    "# the price and name the new sub-setted data frame  car pricing."
   ]
  },
  {
   "cell_type": "code",
   "execution_count": 88,
   "id": "4ec56846",
   "metadata": {},
   "outputs": [],
   "source": [
    "car_pricing = cars[['car name','dealer_cost']]"
   ]
  },
  {
   "cell_type": "code",
   "execution_count": 89,
   "id": "4e2b5d96",
   "metadata": {},
   "outputs": [
    {
     "data": {
      "text/html": [
       "<div>\n",
       "<style scoped>\n",
       "    .dataframe tbody tr th:only-of-type {\n",
       "        vertical-align: middle;\n",
       "    }\n",
       "\n",
       "    .dataframe tbody tr th {\n",
       "        vertical-align: top;\n",
       "    }\n",
       "\n",
       "    .dataframe thead th {\n",
       "        text-align: right;\n",
       "    }\n",
       "</style>\n",
       "<table border=\"1\" class=\"dataframe\">\n",
       "  <thead>\n",
       "    <tr style=\"text-align: right;\">\n",
       "      <th></th>\n",
       "      <th>car name</th>\n",
       "      <th>dealer_cost</th>\n",
       "    </tr>\n",
       "  </thead>\n",
       "  <tbody>\n",
       "    <tr>\n",
       "      <th>0</th>\n",
       "      <td>Chevrolet Aveo 4dr</td>\n",
       "      <td>10965</td>\n",
       "    </tr>\n",
       "    <tr>\n",
       "      <th>1</th>\n",
       "      <td>Chevrolet Aveo LS 4dr hatch</td>\n",
       "      <td>11802</td>\n",
       "    </tr>\n",
       "    <tr>\n",
       "      <th>2</th>\n",
       "      <td>Chevrolet Cavalier 2dr</td>\n",
       "      <td>13697</td>\n",
       "    </tr>\n",
       "    <tr>\n",
       "      <th>3</th>\n",
       "      <td>Chevrolet Cavalier 4dr</td>\n",
       "      <td>13884</td>\n",
       "    </tr>\n",
       "    <tr>\n",
       "      <th>4</th>\n",
       "      <td>Chevrolet Cavalier LS 2dr</td>\n",
       "      <td>15357</td>\n",
       "    </tr>\n",
       "    <tr>\n",
       "      <th>...</th>\n",
       "      <td>...</td>\n",
       "      <td>...</td>\n",
       "    </tr>\n",
       "    <tr>\n",
       "      <th>423</th>\n",
       "      <td>Nissan Titan King Cab XE</td>\n",
       "      <td>24926</td>\n",
       "    </tr>\n",
       "    <tr>\n",
       "      <th>424</th>\n",
       "      <td>Subaru Baja</td>\n",
       "      <td>22304</td>\n",
       "    </tr>\n",
       "    <tr>\n",
       "      <th>425</th>\n",
       "      <td>Toyota Tacoma</td>\n",
       "      <td>11879</td>\n",
       "    </tr>\n",
       "    <tr>\n",
       "      <th>426</th>\n",
       "      <td>Toyota Tundra Regular Cab V6</td>\n",
       "      <td>14978</td>\n",
       "    </tr>\n",
       "    <tr>\n",
       "      <th>427</th>\n",
       "      <td>Toyota Tundra Access Cab V6 SR5</td>\n",
       "      <td>23520</td>\n",
       "    </tr>\n",
       "  </tbody>\n",
       "</table>\n",
       "<p>428 rows × 2 columns</p>\n",
       "</div>"
      ],
      "text/plain": [
       "                            car name  dealer_cost\n",
       "0                 Chevrolet Aveo 4dr        10965\n",
       "1        Chevrolet Aveo LS 4dr hatch        11802\n",
       "2             Chevrolet Cavalier 2dr        13697\n",
       "3             Chevrolet Cavalier 4dr        13884\n",
       "4          Chevrolet Cavalier LS 2dr        15357\n",
       "..                               ...          ...\n",
       "423         Nissan Titan King Cab XE        24926\n",
       "424                      Subaru Baja        22304\n",
       "425                    Toyota Tacoma        11879\n",
       "426     Toyota Tundra Regular Cab V6        14978\n",
       "427  Toyota Tundra Access Cab V6 SR5        23520\n",
       "\n",
       "[428 rows x 2 columns]"
      ]
     },
     "execution_count": 89,
     "metadata": {},
     "output_type": "execute_result"
    }
   ],
   "source": [
    "car_pricing"
   ]
  },
  {
   "cell_type": "code",
   "execution_count": 90,
   "id": "6428f28b",
   "metadata": {},
   "outputs": [],
   "source": [
    "# 9- create a function called pricing category that returns \"Budget Car \" if the cars are less than 20,000 USD,\n",
    "# \" Suitable Car \" is the car is more than 20,000 and less than 35 000 and finally an expensive car for cars \n",
    "# more than 35000. "
   ]
  },
  {
   "cell_type": "code",
   "execution_count": 92,
   "id": "9f834fdd",
   "metadata": {},
   "outputs": [],
   "source": [
    "def pricing_category(price):\n",
    "    if price < 20000:\n",
    "        return \"Budget Car\"\n",
    "    elif price >= 20000 and price <35000:\n",
    "        return \"Suitable Car\"\n",
    "    elif price >= 35000:\n",
    "        return \"Expensive Car\""
   ]
  },
  {
   "cell_type": "code",
   "execution_count": 93,
   "id": "e0357c7e",
   "metadata": {},
   "outputs": [
    {
     "data": {
      "text/plain": [
       "'Suitable Car'"
      ]
     },
     "execution_count": 93,
     "metadata": {},
     "output_type": "execute_result"
    }
   ],
   "source": [
    "pricing_category(20000)"
   ]
  },
  {
   "cell_type": "code",
   "execution_count": 94,
   "id": "b2474070",
   "metadata": {},
   "outputs": [
    {
     "data": {
      "text/plain": [
       "'Budget Car'"
      ]
     },
     "execution_count": 94,
     "metadata": {},
     "output_type": "execute_result"
    }
   ],
   "source": [
    "pricing_category(19990)"
   ]
  },
  {
   "cell_type": "code",
   "execution_count": 98,
   "id": "a0903a97",
   "metadata": {},
   "outputs": [],
   "source": [
    "def pricing_category(price):\n",
    "#     if price < 20000:\n",
    "    if(price < 20000):\n",
    "        a = 'Budget Car'\n",
    "#         return \"Budget Car\"\n",
    "    if((price >= 20000)&(price < 35000)):\n",
    "        a = 'Suitable Car'\n",
    "#     elif price >= 20000 and price <35000:\n",
    "#         return \"Suitable Car\"\n",
    "    if(price >= 35000):\n",
    "        a = 'Expensive Car'\n",
    "#     elif price >= 35000:\n",
    "#         return \"Expensive Car\"\n",
    "    return a\n",
    "# Learning : Keyboard shortcut to comment multiple lines in IDE in Command + /"
   ]
  },
  {
   "cell_type": "code",
   "execution_count": 100,
   "id": "a30d3736",
   "metadata": {},
   "outputs": [
    {
     "data": {
      "text/plain": [
       "'Budget Car'"
      ]
     },
     "execution_count": 100,
     "metadata": {},
     "output_type": "execute_result"
    }
   ],
   "source": [
    "# pricing_category(20000)\n",
    "pricing_category(19990)"
   ]
  },
  {
   "cell_type": "code",
   "execution_count": 101,
   "id": "e486fd11",
   "metadata": {},
   "outputs": [],
   "source": [
    "# 10- create a column named category on the subset using a for loop and pricing category function."
   ]
  },
  {
   "cell_type": "code",
   "execution_count": 118,
   "id": "cb65a826",
   "metadata": {},
   "outputs": [
    {
     "data": {
      "text/plain": [
       "Index(['car name', 'dealer_cost', 'category'], dtype='object')"
      ]
     },
     "execution_count": 118,
     "metadata": {},
     "output_type": "execute_result"
    }
   ],
   "source": [
    "car_pricing.columns"
   ]
  },
  {
   "cell_type": "code",
   "execution_count": 117,
   "id": "79069893",
   "metadata": {},
   "outputs": [
    {
     "name": "stderr",
     "output_type": "stream",
     "text": [
      "/var/folders/m9/vh6kqpzx6cd0dmkxnmnhf8mc0000gn/T/ipykernel_6486/436758988.py:1: SettingWithCopyWarning: \n",
      "A value is trying to be set on a copy of a slice from a DataFrame.\n",
      "Try using .loc[row_indexer,col_indexer] = value instead\n",
      "\n",
      "See the caveats in the documentation: https://pandas.pydata.org/pandas-docs/stable/user_guide/indexing.html#returning-a-view-versus-a-copy\n",
      "  car_pricing['category'] = 'N/A'\n",
      "/var/folders/m9/vh6kqpzx6cd0dmkxnmnhf8mc0000gn/T/ipykernel_6486/436758988.py:3: SettingWithCopyWarning: \n",
      "A value is trying to be set on a copy of a slice from a DataFrame\n",
      "\n",
      "See the caveats in the documentation: https://pandas.pydata.org/pandas-docs/stable/user_guide/indexing.html#returning-a-view-versus-a-copy\n",
      "  car_pricing.category[i] = pricing_category(car_pricing.dealer_cost[i])\n"
     ]
    }
   ],
   "source": [
    "car_pricing['category'] = 'N/A'\n",
    "for i in cars.index:\n",
    "    car_pricing.category[i] = pricing_category(car_pricing.dealer_cost[i])\n",
    "#     a = car_pricing['dealer_cost']\n",
    "#     car_pricing[category] = pricing_category(a)\n",
    "#    print(i)\n",
    "# car_pricing[category] = car_pricing[]"
   ]
  },
  {
   "cell_type": "code",
   "execution_count": 119,
   "id": "3a208a01",
   "metadata": {},
   "outputs": [
    {
     "data": {
      "text/html": [
       "<div>\n",
       "<style scoped>\n",
       "    .dataframe tbody tr th:only-of-type {\n",
       "        vertical-align: middle;\n",
       "    }\n",
       "\n",
       "    .dataframe tbody tr th {\n",
       "        vertical-align: top;\n",
       "    }\n",
       "\n",
       "    .dataframe thead th {\n",
       "        text-align: right;\n",
       "    }\n",
       "</style>\n",
       "<table border=\"1\" class=\"dataframe\">\n",
       "  <thead>\n",
       "    <tr style=\"text-align: right;\">\n",
       "      <th></th>\n",
       "      <th>car name</th>\n",
       "      <th>dealer_cost</th>\n",
       "      <th>category</th>\n",
       "    </tr>\n",
       "  </thead>\n",
       "  <tbody>\n",
       "    <tr>\n",
       "      <th>0</th>\n",
       "      <td>Chevrolet Aveo 4dr</td>\n",
       "      <td>10965</td>\n",
       "      <td>Budget Car</td>\n",
       "    </tr>\n",
       "    <tr>\n",
       "      <th>1</th>\n",
       "      <td>Chevrolet Aveo LS 4dr hatch</td>\n",
       "      <td>11802</td>\n",
       "      <td>Budget Car</td>\n",
       "    </tr>\n",
       "    <tr>\n",
       "      <th>2</th>\n",
       "      <td>Chevrolet Cavalier 2dr</td>\n",
       "      <td>13697</td>\n",
       "      <td>Budget Car</td>\n",
       "    </tr>\n",
       "    <tr>\n",
       "      <th>3</th>\n",
       "      <td>Chevrolet Cavalier 4dr</td>\n",
       "      <td>13884</td>\n",
       "      <td>Budget Car</td>\n",
       "    </tr>\n",
       "    <tr>\n",
       "      <th>4</th>\n",
       "      <td>Chevrolet Cavalier LS 2dr</td>\n",
       "      <td>15357</td>\n",
       "      <td>Budget Car</td>\n",
       "    </tr>\n",
       "    <tr>\n",
       "      <th>...</th>\n",
       "      <td>...</td>\n",
       "      <td>...</td>\n",
       "      <td>...</td>\n",
       "    </tr>\n",
       "    <tr>\n",
       "      <th>423</th>\n",
       "      <td>Nissan Titan King Cab XE</td>\n",
       "      <td>24926</td>\n",
       "      <td>Suitable Car</td>\n",
       "    </tr>\n",
       "    <tr>\n",
       "      <th>424</th>\n",
       "      <td>Subaru Baja</td>\n",
       "      <td>22304</td>\n",
       "      <td>Suitable Car</td>\n",
       "    </tr>\n",
       "    <tr>\n",
       "      <th>425</th>\n",
       "      <td>Toyota Tacoma</td>\n",
       "      <td>11879</td>\n",
       "      <td>Budget Car</td>\n",
       "    </tr>\n",
       "    <tr>\n",
       "      <th>426</th>\n",
       "      <td>Toyota Tundra Regular Cab V6</td>\n",
       "      <td>14978</td>\n",
       "      <td>Budget Car</td>\n",
       "    </tr>\n",
       "    <tr>\n",
       "      <th>427</th>\n",
       "      <td>Toyota Tundra Access Cab V6 SR5</td>\n",
       "      <td>23520</td>\n",
       "      <td>Suitable Car</td>\n",
       "    </tr>\n",
       "  </tbody>\n",
       "</table>\n",
       "<p>428 rows × 3 columns</p>\n",
       "</div>"
      ],
      "text/plain": [
       "                            car name  dealer_cost      category\n",
       "0                 Chevrolet Aveo 4dr        10965    Budget Car\n",
       "1        Chevrolet Aveo LS 4dr hatch        11802    Budget Car\n",
       "2             Chevrolet Cavalier 2dr        13697    Budget Car\n",
       "3             Chevrolet Cavalier 4dr        13884    Budget Car\n",
       "4          Chevrolet Cavalier LS 2dr        15357    Budget Car\n",
       "..                               ...          ...           ...\n",
       "423         Nissan Titan King Cab XE        24926  Suitable Car\n",
       "424                      Subaru Baja        22304  Suitable Car\n",
       "425                    Toyota Tacoma        11879    Budget Car\n",
       "426     Toyota Tundra Regular Cab V6        14978    Budget Car\n",
       "427  Toyota Tundra Access Cab V6 SR5        23520  Suitable Car\n",
       "\n",
       "[428 rows x 3 columns]"
      ]
     },
     "execution_count": 119,
     "metadata": {},
     "output_type": "execute_result"
    }
   ],
   "source": [
    "car_pricing"
   ]
  },
  {
   "cell_type": "code",
   "execution_count": 120,
   "id": "a019a155",
   "metadata": {},
   "outputs": [],
   "source": [
    "# 11- How many Budget cars, suitable cars, and expensive cars we have?"
   ]
  },
  {
   "cell_type": "code",
   "execution_count": 128,
   "id": "2f499cfb",
   "metadata": {},
   "outputs": [
    {
     "data": {
      "text/plain": [
       "Suitable Car     191\n",
       "Budget Car       124\n",
       "Expensive Car    113\n",
       "Name: category, dtype: int64"
      ]
     },
     "execution_count": 128,
     "metadata": {},
     "output_type": "execute_result"
    }
   ],
   "source": [
    "# cars.ncyl.value_counts()\n",
    "car_pricing.category.value_counts()"
   ]
  },
  {
   "cell_type": "code",
   "execution_count": 129,
   "id": "85683af8",
   "metadata": {},
   "outputs": [],
   "source": [
    "# Learning : To get the count of unique values in a column, we should use dataframe name.column name.value_counts()"
   ]
  }
 ],
 "metadata": {
  "kernelspec": {
   "display_name": "Python 3 (ipykernel)",
   "language": "python",
   "name": "python3"
  },
  "language_info": {
   "codemirror_mode": {
    "name": "ipython",
    "version": 3
   },
   "file_extension": ".py",
   "mimetype": "text/x-python",
   "name": "python",
   "nbconvert_exporter": "python",
   "pygments_lexer": "ipython3",
   "version": "3.9.7"
  }
 },
 "nbformat": 4,
 "nbformat_minor": 5
}
